{
 "cells": [
  {
   "cell_type": "markdown",
   "id": "cc42ff72",
   "metadata": {},
   "source": [
    "## Importaciones y configuración inicial\n",
    "\n",
    "En esta sección se cargan las librerías necesarias para el modelado, procesamiento de datos y visualización.\n",
    "Se configura también el dispositivo de cómputo (CPU o GPU) y algunos parámetros generales.\n",
    "\n",
    "El modelo LSTM se implementará en **PyTorch**, utilizando `DataLoader` para manejar las secuencias temporales.\n"
   ]
  },
  {
   "cell_type": "code",
   "execution_count": 9,
   "id": "50a65dbf",
   "metadata": {},
   "outputs": [
    {
     "name": "stdout",
     "output_type": "stream",
     "text": [
      "🧠 CPU Threads: 16\n",
      "📦 Usando dispositivo: cpu\n"
     ]
    }
   ],
   "source": [
    "# --- Librerías base ---\n",
    "import numpy as np\n",
    "import pandas as pd\n",
    "import matplotlib.pyplot as plt\n",
    "from sklearn.preprocessing import MinMaxScaler\n",
    "from sklearn.metrics import mean_squared_error, mean_absolute_error, r2_score\n",
    "\n",
    "# --- PyTorch ---\n",
    "import torch\n",
    "import torch.nn as nn\n",
    "from torch.utils.data import DataLoader, Dataset, TensorDataset\n",
    "\n",
    "import os\n",
    "\n",
    "# --- Optimización CPU ---\n",
    "torch.set_num_threads(os.cpu_count())       # Usa todos los hilos disponibles\n",
    "torch.set_num_interop_threads(os.cpu_count())\n",
    "print(f\"🧠 CPU Threads: {torch.get_num_threads()}\")\n",
    "\n",
    "# --- Configuración ---\n",
    "plt.style.use(\"seaborn-v0_8-whitegrid\")\n",
    "device = torch.device(\"cuda\" if torch.cuda.is_available() else \"cpu\")\n",
    "print(f\"📦 Usando dispositivo: {device}\")\n"
   ]
  },
  {
   "cell_type": "markdown",
   "id": "e651479d",
   "metadata": {},
   "source": [
    "## Carga y exploración del dataset\n",
    "\n",
    "Se carga el conjunto de datos sincronizado `ruido_cuenca_sync.csv`, que contiene los registros de ruido en diferentes puntos de la ciudad.  \n",
    "El objetivo es preparar estos datos para ser utilizados en la red LSTM.\n",
    "\n",
    "En este paso se:\n",
    "- Lee el archivo CSV.\n",
    "- Convierte la columna temporal a formato `datetime`.\n",
    "- Ordena los datos cronológicamente.\n"
   ]
  },
  {
   "cell_type": "code",
   "execution_count": 10,
   "id": "8eee625e",
   "metadata": {},
   "outputs": [
    {
     "name": "stdout",
     "output_type": "stream",
     "text": [
      "Forma del dataset: (249119, 9)\n"
     ]
    },
    {
     "data": {
      "text/html": [
       "<div>\n",
       "<style scoped>\n",
       "    .dataframe tbody tr th:only-of-type {\n",
       "        vertical-align: middle;\n",
       "    }\n",
       "\n",
       "    .dataframe tbody tr th {\n",
       "        vertical-align: top;\n",
       "    }\n",
       "\n",
       "    .dataframe thead th {\n",
       "        text-align: right;\n",
       "    }\n",
       "</style>\n",
       "<table border=\"1\" class=\"dataframe\">\n",
       "  <thead>\n",
       "    <tr style=\"text-align: right;\">\n",
       "      <th></th>\n",
       "      <th>Unnamed: 0</th>\n",
       "      <th>ruido_SCP01</th>\n",
       "      <th>ruido_SCP06</th>\n",
       "      <th>ruido_SCP07</th>\n",
       "      <th>ruido_SCP08</th>\n",
       "      <th>ruido_SCP09</th>\n",
       "      <th>ruido_SCP13</th>\n",
       "      <th>ruido_SCP16</th>\n",
       "      <th>ruido_SCP17</th>\n",
       "    </tr>\n",
       "  </thead>\n",
       "  <tbody>\n",
       "    <tr>\n",
       "      <th>0</th>\n",
       "      <td>2025-04-16 00:01:00</td>\n",
       "      <td>41.920000</td>\n",
       "      <td>57.83</td>\n",
       "      <td>59.58</td>\n",
       "      <td>68.250000</td>\n",
       "      <td>75.68</td>\n",
       "      <td>64.780</td>\n",
       "      <td>67.27</td>\n",
       "      <td>67.7</td>\n",
       "    </tr>\n",
       "    <tr>\n",
       "      <th>1</th>\n",
       "      <td>2025-04-16 00:02:00</td>\n",
       "      <td>41.931818</td>\n",
       "      <td>57.83</td>\n",
       "      <td>59.58</td>\n",
       "      <td>68.250000</td>\n",
       "      <td>75.68</td>\n",
       "      <td>64.780</td>\n",
       "      <td>67.27</td>\n",
       "      <td>67.7</td>\n",
       "    </tr>\n",
       "    <tr>\n",
       "      <th>2</th>\n",
       "      <td>2025-04-16 00:03:00</td>\n",
       "      <td>41.943636</td>\n",
       "      <td>57.83</td>\n",
       "      <td>59.58</td>\n",
       "      <td>68.250000</td>\n",
       "      <td>75.68</td>\n",
       "      <td>64.780</td>\n",
       "      <td>67.27</td>\n",
       "      <td>67.7</td>\n",
       "    </tr>\n",
       "    <tr>\n",
       "      <th>3</th>\n",
       "      <td>2025-04-16 00:04:00</td>\n",
       "      <td>41.955455</td>\n",
       "      <td>57.83</td>\n",
       "      <td>59.58</td>\n",
       "      <td>67.742727</td>\n",
       "      <td>75.68</td>\n",
       "      <td>64.780</td>\n",
       "      <td>67.27</td>\n",
       "      <td>67.7</td>\n",
       "    </tr>\n",
       "    <tr>\n",
       "      <th>4</th>\n",
       "      <td>2025-04-16 00:05:00</td>\n",
       "      <td>41.967273</td>\n",
       "      <td>57.83</td>\n",
       "      <td>59.58</td>\n",
       "      <td>67.235455</td>\n",
       "      <td>75.68</td>\n",
       "      <td>64.806</td>\n",
       "      <td>67.27</td>\n",
       "      <td>67.7</td>\n",
       "    </tr>\n",
       "  </tbody>\n",
       "</table>\n",
       "</div>"
      ],
      "text/plain": [
       "            Unnamed: 0  ruido_SCP01  ruido_SCP06  ruido_SCP07  ruido_SCP08  \\\n",
       "0  2025-04-16 00:01:00    41.920000        57.83        59.58    68.250000   \n",
       "1  2025-04-16 00:02:00    41.931818        57.83        59.58    68.250000   \n",
       "2  2025-04-16 00:03:00    41.943636        57.83        59.58    68.250000   \n",
       "3  2025-04-16 00:04:00    41.955455        57.83        59.58    67.742727   \n",
       "4  2025-04-16 00:05:00    41.967273        57.83        59.58    67.235455   \n",
       "\n",
       "   ruido_SCP09  ruido_SCP13  ruido_SCP16  ruido_SCP17  \n",
       "0        75.68       64.780        67.27         67.7  \n",
       "1        75.68       64.780        67.27         67.7  \n",
       "2        75.68       64.780        67.27         67.7  \n",
       "3        75.68       64.780        67.27         67.7  \n",
       "4        75.68       64.806        67.27         67.7  "
      ]
     },
     "metadata": {},
     "output_type": "display_data"
    },
    {
     "name": "stdout",
     "output_type": "stream",
     "text": [
      "Index(['Unnamed: 0', 'ruido_SCP01', 'ruido_SCP06', 'ruido_SCP07',\n",
      "       'ruido_SCP08', 'ruido_SCP09', 'ruido_SCP13', 'ruido_SCP16',\n",
      "       'ruido_SCP17'],\n",
      "      dtype='object')\n"
     ]
    }
   ],
   "source": [
    "# Cargar el dataset\n",
    "data_path = \"../../data/clean/ruido_cuenca_sync.csv\"\n",
    "df = pd.read_csv(data_path)\n",
    "\n",
    "# Mostrar info básica\n",
    "print(\"Forma del dataset:\", df.shape)\n",
    "display(df.head())\n",
    "\n",
    "# Ver columnas y verificar si existe 'timestamp' o similar\n",
    "print(df.columns)\n",
    "\n",
    "# Si tiene timestamp, conviértelo a datetime\n",
    "if \"timestamp\" in df.columns:\n",
    "    df[\"timestamp\"] = pd.to_datetime(df[\"timestamp\"])\n",
    "    df = df.sort_values(\"timestamp\")\n"
   ]
  },
  {
   "cell_type": "markdown",
   "id": "0d2f1240",
   "metadata": {},
   "source": [
    "## Preparación de las secuencias temporales\n",
    "\n",
    "El modelo LSTM requiere entradas con estructura **(muestras, pasos de tiempo, características)**.\n",
    "\n",
    "En esta sección se:\n",
    "- Seleccionan las variables numéricas relevantes.\n",
    "- Normalizan los valores con `MinMaxScaler`.\n",
    "- Crean las secuencias temporales (ventanas deslizantes).\n",
    "- Dividen los datos en conjuntos de entrenamiento y prueba.\n"
   ]
  },
  {
   "cell_type": "code",
   "execution_count": 11,
   "id": "47d750a5",
   "metadata": {},
   "outputs": [
    {
     "name": "stdout",
     "output_type": "stream",
     "text": [
      "Características numéricas: ['ruido_SCP01', 'ruido_SCP06', 'ruido_SCP07', 'ruido_SCP08', 'ruido_SCP09', 'ruido_SCP13', 'ruido_SCP16', 'ruido_SCP17']\n",
      "Forma de X: torch.Size([249095, 24, 8])\n",
      "Forma de y: torch.Size([249095])\n",
      "DataLoader configurado con batch_size=128 y num_workers=15\n"
     ]
    }
   ],
   "source": [
    "# Seleccionar solo las columnas numéricas (nivel de ruido, temperatura, etc.)\n",
    "features = df.select_dtypes(include=[np.number]).columns.tolist()\n",
    "print(\"Características numéricas:\", features)\n",
    "\n",
    "# Normalizar datos\n",
    "scaler = MinMaxScaler()\n",
    "data_scaled = scaler.fit_transform(df[features])\n",
    "\n",
    "# Convertir a tensor\n",
    "data_scaled = torch.tensor(data_scaled, dtype=torch.float32)\n",
    "\n",
    "# Definir función para crear ventanas temporales\n",
    "def create_sequences(data, seq_length=24):\n",
    "    X, y = [], []\n",
    "    for i in range(len(data) - seq_length):\n",
    "        X.append(data[i:i+seq_length])\n",
    "        y.append(data[i+seq_length][0])  # Asumimos que la primera columna es el valor objetivo (ruido)\n",
    "    return torch.stack(X), torch.stack(y)\n",
    "\n",
    "seq_length = 24  # 24 horas o pasos temporales\n",
    "X, y = create_sequences(data_scaled, seq_length)\n",
    "\n",
    "print(\"Forma de X:\", X.shape)\n",
    "print(\"Forma de y:\", y.shape)\n",
    "\n",
    "# Dividir en entrenamiento y prueba (80/20)\n",
    "train_size = int(0.8 * len(X))\n",
    "X_train, X_test = X[:train_size], X[train_size:]\n",
    "y_train, y_test = y[:train_size], y[train_size:]\n",
    "\n",
    "train_data = TensorDataset(X_train, y_train)\n",
    "test_data = TensorDataset(X_test, y_test)\n",
    "\n",
    "# --- Carga de datos optimizada ---\n",
    "num_workers = os.cpu_count() - 1  # usa todos los núcleos menos 1\n",
    "batch_size = 128                  # o 256 si tienes RAM suficiente\n",
    "\n",
    "train_loader = DataLoader(\n",
    "    train_data,\n",
    "    batch_size=batch_size,\n",
    "    shuffle=True,\n",
    "    num_workers=num_workers,\n",
    "    pin_memory=True,\n",
    "    persistent_workers=True\n",
    ")\n",
    "\n",
    "test_loader = DataLoader(\n",
    "    test_data,\n",
    "    batch_size=batch_size,\n",
    "    shuffle=False,\n",
    "    num_workers=num_workers,\n",
    "    pin_memory=True,\n",
    "    persistent_workers=True\n",
    ")\n",
    "\n",
    "print(f\"DataLoader configurado con batch_size={batch_size} y num_workers={num_workers}\")\n",
    "\n"
   ]
  },
  {
   "cell_type": "markdown",
   "id": "f9ed85e2",
   "metadata": {},
   "source": [
    "## Definición del modelo LSTM\n",
    "\n",
    "Aquí se implementa el modelo LSTM en PyTorch.  \n",
    "El modelo cuenta con:\n",
    "- Capas recurrentes para capturar dependencias temporales.\n",
    "- Capas densas finales para predecir el nivel de ruido.\n",
    "\n",
    "Estructura básica:\n",
    "- Entrada: secuencias de características normalizadas.\n",
    "- Salida: valor de ruido esperado para el siguiente instante.\n"
   ]
  },
  {
   "cell_type": "code",
   "execution_count": 12,
   "id": "a58bab60",
   "metadata": {},
   "outputs": [
    {
     "name": "stdout",
     "output_type": "stream",
     "text": [
      "LSTMModel(\n",
      "  (lstm): LSTM(8, 64, num_layers=2, batch_first=True, dropout=0.2)\n",
      "  (fc): Linear(in_features=64, out_features=1, bias=True)\n",
      ")\n"
     ]
    }
   ],
   "source": [
    "class LSTMModel(nn.Module):\n",
    "    def __init__(self, input_size, hidden_size=64, num_layers=2, dropout=0.2):\n",
    "        super(LSTMModel, self).__init__()\n",
    "        self.lstm = nn.LSTM(input_size, hidden_size, num_layers, batch_first=True, dropout=dropout)\n",
    "        self.fc = nn.Linear(hidden_size, 1)\n",
    "    \n",
    "    def forward(self, x):\n",
    "        out, _ = self.lstm(x)\n",
    "        out = out[:, -1, :]  # solo el último paso\n",
    "        out = self.fc(out)\n",
    "        return out\n",
    "\n",
    "# Crear modelo\n",
    "input_size = X.shape[2]\n",
    "model = LSTMModel(input_size=input_size).to(device)\n",
    "print(model)\n"
   ]
  },
  {
   "cell_type": "markdown",
   "id": "4f8ca4a3",
   "metadata": {},
   "source": [
    "## Entrenamiento del modelo\n",
    "\n",
    "Se entrena el modelo LSTM utilizando el conjunto de entrenamiento.  \n",
    "El proceso incluye:\n",
    "- Forward y backward pass por época.\n",
    "- Optimización con Adam.\n",
    "- Cálculo del error cuadrático medio (MSE) como función de pérdida.\n",
    "\n",
    "Durante el entrenamiento, se registra la pérdida tanto de entrenamiento como de validación para analizar la convergencia.\n"
   ]
  },
  {
   "cell_type": "code",
   "execution_count": 13,
   "id": "1cc55557",
   "metadata": {},
   "outputs": [
    {
     "name": "stderr",
     "output_type": "stream",
     "text": [
      "Época 1/30:   0%|          | 0/1557 [00:00<?, ?it/s]c:\\Users\\arian\\Documents\\ruido-cuenca\\venv\\Lib\\site-packages\\torch\\utils\\data\\dataloader.py:666: UserWarning: 'pin_memory' argument is set as true but no accelerator is found, then device pinned memory won't be used.\n",
      "  warnings.warn(warn_msg)\n",
      "                                                                            \r"
     ]
    },
    {
     "name": "stdout",
     "output_type": "stream",
     "text": [
      "Época [1/30] 🧠 Train: 0.0020 | Val: 0.0001\n"
     ]
    },
    {
     "name": "stderr",
     "output_type": "stream",
     "text": [
      "                                                                            \r"
     ]
    },
    {
     "name": "stdout",
     "output_type": "stream",
     "text": [
      "Época [2/30] 🧠 Train: 0.0002 | Val: 0.0001\n"
     ]
    },
    {
     "name": "stderr",
     "output_type": "stream",
     "text": [
      "                                                                            \r"
     ]
    },
    {
     "name": "stdout",
     "output_type": "stream",
     "text": [
      "Época [3/30] 🧠 Train: 0.0001 | Val: 0.0001\n"
     ]
    },
    {
     "name": "stderr",
     "output_type": "stream",
     "text": [
      "                                                                            \r"
     ]
    },
    {
     "name": "stdout",
     "output_type": "stream",
     "text": [
      "Época [4/30] 🧠 Train: 0.0001 | Val: 0.0000\n"
     ]
    },
    {
     "name": "stderr",
     "output_type": "stream",
     "text": [
      "                                                                            \r"
     ]
    },
    {
     "name": "stdout",
     "output_type": "stream",
     "text": [
      "Época [5/30] 🧠 Train: 0.0001 | Val: 0.0000\n"
     ]
    },
    {
     "name": "stderr",
     "output_type": "stream",
     "text": [
      "                                                                            \r"
     ]
    },
    {
     "name": "stdout",
     "output_type": "stream",
     "text": [
      "Época [6/30] 🧠 Train: 0.0001 | Val: 0.0000\n"
     ]
    },
    {
     "name": "stderr",
     "output_type": "stream",
     "text": [
      "                                                                            \r"
     ]
    },
    {
     "name": "stdout",
     "output_type": "stream",
     "text": [
      "Época [7/30] 🧠 Train: 0.0001 | Val: 0.0000\n"
     ]
    },
    {
     "name": "stderr",
     "output_type": "stream",
     "text": [
      "                                                                            \r"
     ]
    },
    {
     "name": "stdout",
     "output_type": "stream",
     "text": [
      "Época [8/30] 🧠 Train: 0.0000 | Val: 0.0000\n"
     ]
    },
    {
     "name": "stderr",
     "output_type": "stream",
     "text": [
      "                                                                            \r"
     ]
    },
    {
     "name": "stdout",
     "output_type": "stream",
     "text": [
      "Época [9/30] 🧠 Train: 0.0000 | Val: 0.0000\n"
     ]
    },
    {
     "name": "stderr",
     "output_type": "stream",
     "text": [
      "                                                                             \r"
     ]
    },
    {
     "name": "stdout",
     "output_type": "stream",
     "text": [
      "Época [10/30] 🧠 Train: 0.0000 | Val: 0.0000\n"
     ]
    },
    {
     "name": "stderr",
     "output_type": "stream",
     "text": [
      "                                                                             \r"
     ]
    },
    {
     "name": "stdout",
     "output_type": "stream",
     "text": [
      "Época [11/30] 🧠 Train: 0.0000 | Val: 0.0000\n"
     ]
    },
    {
     "name": "stderr",
     "output_type": "stream",
     "text": [
      "                                                                             \r"
     ]
    },
    {
     "name": "stdout",
     "output_type": "stream",
     "text": [
      "Época [12/30] 🧠 Train: 0.0000 | Val: 0.0000\n",
      "⏹️ Early stopping en época 12 — no mejora en 5 épocas.\n"
     ]
    }
   ],
   "source": [
    "from tqdm.auto import tqdm\n",
    "\n",
    "criterion = nn.MSELoss()\n",
    "optimizer = torch.optim.Adam(model.parameters(), lr=0.001)\n",
    "\n",
    "num_epochs = 30  # puedes dejar 15 si solo haces pruebas\n",
    "patience = 5     # early stopping: detiene si no mejora en 5 épocas\n",
    "best_val = float(\"inf\")\n",
    "wait = 0\n",
    "\n",
    "train_losses, test_losses = [], []\n",
    "\n",
    "for epoch in range(num_epochs):\n",
    "    model.train()\n",
    "    epoch_loss = 0.0\n",
    "    \n",
    "    # Barra de progreso durante el entrenamiento\n",
    "    progress_bar = tqdm(train_loader, desc=f\"Época {epoch+1}/{num_epochs}\", leave=False)\n",
    "    \n",
    "    for X_batch, y_batch in progress_bar:\n",
    "        X_batch, y_batch = X_batch.to(device), y_batch.to(device).unsqueeze(1)\n",
    "        \n",
    "        optimizer.zero_grad()\n",
    "        y_pred = model(X_batch)\n",
    "        loss = criterion(y_pred, y_batch)\n",
    "        loss.backward()\n",
    "        optimizer.step()\n",
    "        \n",
    "        epoch_loss += loss.item()\n",
    "        progress_bar.set_postfix(loss=f\"{loss.item():.4f}\")\n",
    "    \n",
    "    # Promedio de pérdida por época\n",
    "    train_loss = epoch_loss / len(train_loader)\n",
    "    train_losses.append(train_loss)\n",
    "    \n",
    "    # Validación\n",
    "    model.eval()\n",
    "    val_loss = 0.0\n",
    "    with torch.no_grad():\n",
    "        for X_val, y_val in test_loader:\n",
    "            X_val, y_val = X_val.to(device), y_val.to(device).unsqueeze(1)\n",
    "            y_pred = model(X_val)\n",
    "            val_loss += criterion(y_pred, y_val).item()\n",
    "    val_loss /= len(test_loader)\n",
    "    test_losses.append(val_loss)\n",
    "    \n",
    "    # Mostrar resumen de la época\n",
    "    print(f\"Época [{epoch+1}/{num_epochs}] 🧠 Train: {train_loss:.4f} | Val: {val_loss:.4f}\")\n",
    "    \n",
    "    # --- EARLY STOPPING ---\n",
    "    if val_loss < best_val - 1e-5:\n",
    "        best_val = val_loss\n",
    "        wait = 0\n",
    "        torch.save(model.state_dict(), \"lstm_best.pt\")  # guarda el mejor modelo\n",
    "    else:\n",
    "        wait += 1\n",
    "        if wait >= patience:\n",
    "            print(f\"⏹️ Early stopping en época {epoch+1} — no mejora en {patience} épocas.\")\n",
    "            break\n",
    "    \n",
    "    # Guardar checkpoint cada 5 épocas\n",
    "    if (epoch + 1) % 5 == 0:\n",
    "        torch.save(model.state_dict(), f\"checkpoint_epoch_{epoch+1}.pt\")\n"
   ]
  },
  {
   "cell_type": "markdown",
   "id": "4e7d1c86",
   "metadata": {},
   "source": [
    "## Evaluación del modelo\n",
    "\n",
    "Se evalúa el desempeño del modelo sobre el conjunto de prueba.\n",
    "\n",
    "Métricas utilizadas:\n",
    "- **RMSE (Root Mean Square Error)**: mide la desviación media de las predicciones.\n",
    "- **MAE (Mean Absolute Error)**: mide el error promedio absoluto.\n",
    "- **R² (Coeficiente de determinación)**: indica qué tan bien el modelo explica la variabilidad de los datos.\n",
    "\n",
    "También se desnormalizan las predicciones para interpretarlas en unidades reales (dB).\n"
   ]
  },
  {
   "cell_type": "code",
   "execution_count": 14,
   "id": "c29e9c07",
   "metadata": {},
   "outputs": [
    {
     "name": "stdout",
     "output_type": "stream",
     "text": [
      "RMSE: 0.125\n",
      "MAE : 0.075\n",
      "R²  : 0.999\n"
     ]
    }
   ],
   "source": [
    "model.eval()\n",
    "with torch.no_grad():\n",
    "    y_pred = model(X_test.to(device)).cpu().numpy()\n",
    "    y_true = y_test.numpy()\n",
    "\n",
    "# Desnormalizar si quieres comparar en valores reales\n",
    "y_pred_rescaled = scaler.inverse_transform(np.hstack((y_pred, np.zeros((len(y_pred), len(features)-1)))))[:,0]\n",
    "y_true_rescaled = scaler.inverse_transform(np.hstack((y_true.reshape(-1,1), np.zeros((len(y_true), len(features)-1)))))[:,0]\n",
    "\n",
    "rmse = np.sqrt(mean_squared_error(y_true_rescaled, y_pred_rescaled))\n",
    "mae = mean_absolute_error(y_true_rescaled, y_pred_rescaled)\n",
    "r2 = r2_score(y_true_rescaled, y_pred_rescaled)\n",
    "\n",
    "print(f\"RMSE: {rmse:.3f}\")\n",
    "print(f\"MAE : {mae:.3f}\")\n",
    "print(f\"R²  : {r2:.3f}\")\n"
   ]
  },
  {
   "cell_type": "markdown",
   "id": "0d56f23f",
   "metadata": {},
   "source": [
    "## Visualización de resultados\n",
    "\n",
    "Se comparan las predicciones del modelo LSTM con los valores reales de ruido a lo largo del tiempo.\n",
    "\n",
    "El objetivo es analizar:\n",
    "- Qué tan bien el modelo sigue las variaciones reales del ruido.\n",
    "- Si existen rezagos o desviaciones sistemáticas.\n",
    "\n",
    "Se grafica la serie temporal de valores **reales vs. predichos** para una muestra representativa.\n"
   ]
  },
  {
   "cell_type": "code",
   "execution_count": null,
   "id": "d682a464",
   "metadata": {},
   "outputs": [],
   "source": [
    "plt.figure(figsize=(12,5))\n",
    "plt.plot(y_true_rescaled[:200], label=\"Real\", linewidth=2)\n",
    "plt.plot(y_pred_rescaled[:200], label=\"Predicho\", linewidth=2)\n",
    "plt.title(\"Predicción de ruido con LSTM\")\n",
    "plt.xlabel(\"Tiempo\")\n",
    "plt.ylabel(\"Nivel de ruido (dB)\")\n",
    "plt.legend()\n",
    "plt.show()\n"
   ]
  }
 ],
 "metadata": {
  "kernelspec": {
   "display_name": "venv",
   "language": "python",
   "name": "python3"
  },
  "language_info": {
   "codemirror_mode": {
    "name": "ipython",
    "version": 3
   },
   "file_extension": ".py",
   "mimetype": "text/x-python",
   "name": "python",
   "nbconvert_exporter": "python",
   "pygments_lexer": "ipython3",
   "version": "3.12.4"
  }
 },
 "nbformat": 4,
 "nbformat_minor": 5
}
